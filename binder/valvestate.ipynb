{
 "cells": [
  {
   "cell_type": "markdown",
   "id": "6b55b0d9-cad0-4c91-98c3-63f33f37e10a",
   "metadata": {},
   "source": [
    "# Valvestate DSP\n",
    "\n",
    "This document describes the design process of the DSP algorithms for the plugin.\n",
    "[Schematics](https://drtube.com/schematics/marshall/pc0689.pdf)"
   ]
  },
  {
   "cell_type": "code",
   "execution_count": null,
   "id": "2e603943-c1ea-4d8f-8e7a-5462fd44df63",
   "metadata": {},
   "outputs": [],
   "source": [
    "import numpy as np\n",
    "import scipy.signal as signal\n",
    "import matplotlib.pyplot as plt\n",
    "import csv\n",
    "import sympy\n",
    "import re"
   ]
  },
  {
   "cell_type": "code",
   "execution_count": null,
   "id": "54f03d30-2f6c-4a5e-a112-b14bd7c32a0f",
   "metadata": {},
   "outputs": [],
   "source": [
    "# Sample rate to use when plotting digital filter responses\n",
    "rate = 48000\n",
    "# Bilinear transform parameter, optimal at DC\n",
    "k = 2*rate\n",
    "\n",
    "# Default plot settings\n",
    "plt.rcParams[\"figure.figsize\"] = (14, 7)\n",
    "plt.rcParams['axes.grid'] = True\n",
    "\n",
    "from sympy.abc import s, z, K"
   ]
  },
  {
   "cell_type": "markdown",
   "id": "4ba2baca-c69d-4c5b-be4f-b20fad13978e",
   "metadata": {},
   "source": [
    "# Filters\n",
    "\n",
    "Analog filters are discretectised using the method described in [DISCRETIZATION OF THE ’59 FENDER BASSMAN TONE STACK by David T. Yeh, Julius O. Smith](https://ccrma.stanford.edu/~dtyeh/papers/yeh06_dafx.pdf).\n",
    "\n",
    "In summary, symbolic analysis is performed on the schematic in the s-domain, then the bilinear transform is used to genereate a z-domain transfer function, which can be implemented as an IIR filter.\n",
    "\n",
    "They gloss over how exactly to perform the symbolic circuit analysis. I have used QSapecNG for this. This software performs symbolic analysis on a graphical schematic, so it is quite easy to use. Unfortunately it has many bugs, and is not maintained anymore. Schematics are available for each circuit under the file mentioned in the relevant code snippet.\n",
    "\n",
    "[Lcapy](https://github.com/mph-/lcapy), [ahkab](https://github.com/ahkab/ahkab), [SCAM](https://github.com/echeever/scam), Wolfram SystemModeler could possibly work here. I have only tried lcapy, and altough it would be nice to do all the work inside Python, it was too slow to be usable."
   ]
  },
  {
   "cell_type": "code",
   "execution_count": null,
   "id": "3c23d6c8-a190-489a-b017-01b59a717d3e",
   "metadata": {},
   "outputs": [],
   "source": [
    "def print_as_cpp_coefficients(coeffs, name):\n",
    "    for i in range(len(coeffs)):    \n",
    "        tmp = f\"float {name}{i} = {coeffs[i]};\"\n",
    "        # substitute python power syntax a**2 to std::pow(a, 2)\n",
    "        print(re.sub(r\"([a-zA-Z])\\*\\*(\\d)\", r\"std::pow(\\1, \\2)\", tmp))\n",
    "    \n",
    "print_as_cpp_coefficients(range(0, 3), \"test\")\n",
    "print_as_cpp_coefficients([s**5], \"power\")"
   ]
  },
  {
   "cell_type": "markdown",
   "id": "9ac7338f-229b-4ae7-906e-774c3e6e6bbc",
   "metadata": {},
   "source": [
    "Helper function to perform bilinear transform by substituting $s$ for $K\\frac{1-z^{-1}}{1+z^{-1}}$."
   ]
  },
  {
   "cell_type": "code",
   "execution_count": null,
   "id": "9ad9daea-5e62-4d64-8d45-1a10674875d3",
   "metadata": {},
   "outputs": [],
   "source": [
    "def bilinear_transform(tf_s):\n",
    "    s_sub = K*(1-z**-1)/(1+z**-1)\n",
    "    tf_z = tf_s.subs(s, s_sub).normal().simplify().factor()\n",
    "    n, d = sympy.fraction(tf_z)\n",
    "    n_frac = sympy.poly(n, z)\n",
    "    d_frac = sympy.poly(d, z)\n",
    "    B = n_frac.all_coeffs()\n",
    "    A = d_frac.all_coeffs()\n",
    "    return B, A\n",
    "\n",
    "b0, b1, b2, a0, a1, a2 = sympy.symbols(\"b0, b1, b2, a0, a1, a2\")\n",
    "\n",
    "# this should print the general bilinear transform for a biquad\n",
    "bilinear_transform((b0 + b1 * s**-1 + b2 * s**-2)/(a0 + a1 * s**-1 + a2 * s**-2))"
   ]
  },
  {
   "cell_type": "code",
   "execution_count": null,
   "id": "679c4cba-6171-4ad3-a724-f7823c5e2d89",
   "metadata": {},
   "outputs": [],
   "source": [
    "def substitute_parameter(A, parameters):\n",
    "    return [float(sympy.sympify(AA).subs(parameters)) for AA in A]"
   ]
  },
  {
   "cell_type": "markdown",
   "id": "f7f39808-3b4c-45d6-af66-2678b538e3f6",
   "metadata": {},
   "source": [
    "## Input filter\n",
    "\n",
    "This is the first stage of the amplifier, it's suspiciously similar to a tubescreamer pedal."
   ]
  },
  {
   "cell_type": "code",
   "execution_count": null,
   "id": "2f8a40a5-b763-4111-8474-c96440c90ef3",
   "metadata": {},
   "outputs": [],
   "source": [
    "# input_filter.info\n",
    "tf_s = (s**2 + 2.23219e+06*s + 4.52694e+08)/(1 * s**2 + 104527*s + 4.52694e+08)\n",
    "\n",
    "n, d = sympy.fraction(tf_s)\n",
    "n_poly = sympy.Poly(n, s)\n",
    "d_poly = sympy.Poly(d, s)\n",
    "B = n_poly.all_coeffs()\n",
    "A = d_poly.all_coeffs()\n",
    "\n",
    "tf = signal.lti([float(BB) for BB in B], [float(AA) for AA in A])\n",
    "w, H = signal.freqresp(tf)\n",
    "\n",
    "plt.figure()\n",
    "plt.semilogx(w/2/np.pi, 20*np.log10(np.abs(H)), label=\"analogue\")\n",
    "\n",
    "B, A = bilinear_transform(tf_s)\n",
    "\n",
    "print_as_cpp_coefficients(B, \"B\")\n",
    "print_as_cpp_coefficients(A, \"A\")\n",
    "\n",
    "b = substitute_parameter(B, {K: k})\n",
    "a = substitute_parameter(A, {K: k})\n",
    "f = signal.dlti(b, a)\n",
    "w, H = signal.dfreqresp(f)\n",
    "\n",
    "plt.semilogx(w/2/np.pi*rate, 20*np.log10(np.abs(H)), label=\"digital\")\n",
    "plt.title(\"Frequency response of input filter\")\n",
    "plt.xlabel(\"Frequency (Hz)\")\n",
    "plt.ylabel(\"Magnitude (dB)\")\n",
    "plt.xlim(20, 20e3)\n",
    "plt.ylim(0, 30)\n",
    "plt.legend()\n",
    "plt.show()"
   ]
  },
  {
   "cell_type": "markdown",
   "id": "0227779d-c661-4e0c-9598-7a6d1c22c197",
   "metadata": {},
   "source": [
    "## Gain control\n",
    "\n",
    "There are two sets of functions, as this circuit has two switchable modes (OD1/OD2)."
   ]
  },
  {
   "cell_type": "code",
   "execution_count": null,
   "id": "db9fba27-f433-429f-ab11-538e47146d11",
   "metadata": {},
   "outputs": [],
   "source": [
    "# OD1.info / OD2.info\n",
    "C1 = 220e-9\n",
    "C2 = 47e-12\n",
    "R1 = 22e3\n",
    "R2 = 100e3\n",
    "Rg = sympy.symbols(\"Rg\")\n",
    "Rg_value = 1e6\n",
    "\n",
    "B1 = [R1*Rg*C1, 0]\n",
    "A1 = [R1*R2*Rg*C1*C2, R1*R2*C1 + R1*Rg*C2 + R2*Rg*C2, R1+R2]\n",
    "\n",
    "B2 = [Rg*C1, 0]\n",
    "R1 = 9.09e3\n",
    "A2 = [R1*Rg*C1*C2, R1*C1 + Rg*C2, 1]\n",
    "\n",
    "g = sympy.symbols(\"g\")\n",
    "\n",
    "tf1_s = ((B1[0]*s)/(A1[0]*s**2 + A1[1]*s + A1[2])).subs(Rg, Rg_value*g)\n",
    "tf2_s = ((B2[0]*s)/(A2[0]*s**2 + A2[1]*s + A2[2])).subs(Rg, Rg_value*g)\n",
    "\n",
    "B1z, A1z = bilinear_transform(tf1_s)\n",
    "B2z, A2z = bilinear_transform(tf2_s)\n",
    "\n",
    "print_as_cpp_coefficients(B1z, \"B1\")\n",
    "print_as_cpp_coefficients(A1z, \"A1\")\n",
    "print_as_cpp_coefficients(B2z, \"B2\")\n",
    "print_as_cpp_coefficients(A2z, \"A2\")\n",
    "\n",
    "G = [0.01, 0.1, 1]\n",
    "\n",
    "plt.figure()\n",
    "for B, A, label, linestyle in [[B1z, A1z, \"OD1\", \"-\"], [B2z, A2z, \"OD2\", \"--\"]]:\n",
    "    for gg in G:\n",
    "        subs = {K:k, g:gg}\n",
    "        b = substitute_parameter(B, subs)\n",
    "        a = substitute_parameter(A, subs)\n",
    "            \n",
    "        f = signal.dlti(b, a)\n",
    "        w, H = signal.dfreqresp(f)\n",
    "        \n",
    "        # ignore divide by 0 errors\n",
    "        with np.errstate(divide='ignore'):\n",
    "            plt.semilogx(w/2/np.pi*rate, 20*np.log10(np.abs(H)), label=f\"{label}, g = {gg}\", linestyle=linestyle)\n",
    "\n",
    "plt.legend()\n",
    "plt.title(\"Frequency response of gain control\")\n",
    "plt.xlabel(\"Frequency (Hz)\")\n",
    "plt.ylabel(\"Magnitude (dB)\")\n",
    "plt.xlim(20, 20e3)\n",
    "plt.ylim(-45, 45)\n",
    "plt.show()"
   ]
  },
  {
   "cell_type": "markdown",
   "id": "a9a6c37e-51e6-4b22-b434-e6fbdfd2d94d",
   "metadata": {},
   "source": [
    "## Contour filter"
   ]
  },
  {
   "cell_type": "code",
   "execution_count": null,
   "id": "55a80159-3ea2-4049-bcf1-9cd70fda1248",
   "metadata": {},
   "outputs": [],
   "source": [
    "# contour.info\n",
    "Rp1, Rp2, p = sympy.symbols(\"Rp1 Rp2 p\")\n",
    "Rp = 100e3\n",
    "V1 = 1\n",
    "\n",
    "exp = ((( 1.0032e-14 * Rp1 * Rp2 * V1 + 1.94495e-10 * Rp1 * V1 ) * s**3 +\n",
    "        ( 1.254e-10 * Rp1 * Rp2 * V1 + 4.56e-07 * Rp1 * V1 + 1.76e-07 * Rp2 * V1 + 0.0034122 * V1 ) * s**2 +\n",
    "        ( 0.0057 * Rp1 * V1 + 0.0022 * Rp2 * V1 + 8 * V1 ) * s + 100000 * V1) / \n",
    "       (( 3.88784e-19 * Rp1 * Rp2 + 7.53755e-15 * Rp1 ) * s**4 +\n",
    "        ( 1.92511e-14 * Rp1 * Rp2 + 5.04208e-10 * Rp1 + 3.88784e-11 * Rp2 + 7.53755e-07 ) * s**3 + \n",
    "        ( 2.31614e-10 * Rp1 * Rp2 + 7.82459e-06 * Rp1 + 1.05904e-06 * Rp2 + 0.0297419 ) * s**2 +\n",
    "        ( 0.0105279 * Rp1 + 0.0040634 * Rp2 + 170.06 ) * s + 184700))\n",
    "\n",
    "exp_final = exp.subs({Rp1: Rp*p, Rp2: Rp*(1-p)})\n",
    "n, d = sympy.fraction(exp_final)\n",
    "n_poly = sympy.Poly(n, s)\n",
    "d_poly = sympy.Poly(d, s)\n",
    "B = n_poly.all_coeffs()\n",
    "A = d_poly.all_coeffs()\n",
    "\n",
    "P = [0, 0.01, 0.02, 0.05, 0.5, 0.7, 0.8, 0.9, 0.96, 1]\n",
    "# plot response of analogue filter\n",
    "for pp in P:\n",
    "    b = substitute_parameter(B, {p: pp})\n",
    "    a = substitute_parameter(A, {p: pp})\n",
    "\n",
    "    tf = signal.lti(b, a)\n",
    "    w, H = signal.freqresp(tf)\n",
    "    plt.semilogx(w/2/np.pi, 20*np.log10(np.abs(H)), label=f\"analogue {pp: .2f}\")\n",
    "\n",
    "tf = (B[0]*s**3 + B[1]*s**2 + B[2]*s + B[3])/(A[0]*s**4 + A[1]*s**3 + A[2]*s**2 + A[3]*s + A[4])\n",
    "Bz, Az = bilinear_transform(tf)\n",
    "\n",
    "print_as_cpp_coefficients(Bz, \"B\")\n",
    "print_as_cpp_coefficients(Az, \"A\")\n",
    "\n",
    "# plot response of digital filter\n",
    "for pp in P:\n",
    "    b = substitute_parameter(Bz, {p: pp, K: k})\n",
    "    a = substitute_parameter(Az, {p: pp, K: k})\n",
    "\n",
    "    tf = signal.dlti(b, a)\n",
    "    w, H = signal.dfreqresp(tf)\n",
    "    plt.semilogx(w/2/np.pi*rate, 20*np.log10(np.abs(H)), label=f\"digital {pp: 0.2f}\", linestyle='--')\n",
    "\n",
    "plt.title(\"Frequency response of contour filter\")\n",
    "plt.xlabel(\"Frequency (Hz)\")\n",
    "plt.ylabel(\"Magnitude (dB)\")\n",
    "plt.xlim(20, 20e3)\n",
    "plt.ylim(-30, -5)\n",
    "plt.legend()\n",
    "plt.show()"
   ]
  },
  {
   "cell_type": "markdown",
   "id": "2c3724e4-842a-4f7c-bf18-c96e3fef71af",
   "metadata": {},
   "source": [
    "Notice how the response is non-linear here. Between 0 - 0.05, there is substantial high-cut. From 0.05 to 0.5 the response barely changes, then above 0.5 there is a mid-cut. It might be a nice improvement to add a function that transforms the parameter in order to linearise the effect.\n",
    "\n",
    "Further improvement is to run the filters at an oversampled rate, or use another method to reduce the effect of frequency warping. This can be seen on the graph as a difference between the analog and digital response at high frequencies."
   ]
  },
  {
   "cell_type": "markdown",
   "id": "3b56ac36-40c6-4865-a275-c5c18285eb4b",
   "metadata": {},
   "source": [
    "# Distortion\n",
    "\n",
    "The distortion comes from a combination of diode clipping and a 12AX7 vacuum tube. A static waveshaper is used to simulate these circuits. This was created by entering the schematic into LTSpice, then running a DC operating point sweep.\n",
    "\n",
    "To output the data from LTSpice, click on the node that should be exported (V(follower) in this case). This should make a plot appear. Now we can right click on the plot then navigate to File -> Export data as text."
   ]
  },
  {
   "cell_type": "code",
   "execution_count": null,
   "id": "2555bbac-0d5c-467d-98b7-2b3718addaf8",
   "metadata": {},
   "outputs": [],
   "source": [
    "# 9 decimal digits should be enough to exactly represent a 32-bit IEEE 754 float\n",
    "def print_cpp_array(a):\n",
    "    print(\"{\", end=\"\")\n",
    "    for i in range(len(a)):\n",
    "        if not i % 5:\n",
    "            print(\"\")\n",
    "            \n",
    "        print(f\"{a[i]:11.10}, \", end=\"\")\n",
    "        \n",
    "    print(\"\\n}\", end=\"\")\n",
    "\n",
    "        \n",
    "print_cpp_array([1.000000001, 2., 3., 4., 5., 6.])"
   ]
  },
  {
   "cell_type": "code",
   "execution_count": null,
   "id": "59123f19-34f0-45a1-a43f-20fdc3aaea8c",
   "metadata": {},
   "outputs": [],
   "source": [
    "input_voltage = []\n",
    "output_voltage = []\n",
    "\n",
    "with open('clipping_waveshape.txt') as csvDataFile:\n",
    "    csvReader = csv.reader(csvDataFile, delimiter='\\t')\n",
    "    next(csvReader) # skip the header line\n",
    "    for row in csvReader:\n",
    "        input_voltage.append(float(row[0]))\n",
    "        output_voltage.append(float(row[1]))"
   ]
  },
  {
   "cell_type": "code",
   "execution_count": null,
   "id": "90bb684c-0e05-4924-8995-df2be559fd0e",
   "metadata": {},
   "outputs": [],
   "source": [
    "plt.plot(input_voltage, output_voltage)\n",
    "plt.xlabel(\"Input signal (V)\")\n",
    "plt.ylabel(\"Output signal (V)\")\n",
    "plt.show()\n",
    "print_cpp_array(output_voltage)"
   ]
  }
 ],
 "metadata": {
  "kernelspec": {
   "display_name": "Python 3",
   "language": "python",
   "name": "python3"
  },
  "language_info": {
   "codemirror_mode": {
    "name": "ipython",
    "version": 3
   },
   "file_extension": ".py",
   "mimetype": "text/x-python",
   "name": "python",
   "nbconvert_exporter": "python",
   "pygments_lexer": "ipython3",
   "version": "3.9.5"
  }
 },
 "nbformat": 4,
 "nbformat_minor": 5
}
